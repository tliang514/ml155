{
 "cells": [
  {
   "cell_type": "code",
   "execution_count": null,
   "metadata": {
    "collapsed": true
   },
   "outputs": [],
   "source": [
    "#preprocess data\n",
    "#author: Yunxuan\n",
    "#date: 01/26/2016\n",
    "\n",
    "# -*- coding: utf-8 -*-\n",
    "import numpy as np\n",
    "import matplotlib.pyplot as plt\n",
    "import csv\n",
    "\n",
    "#import training data\n",
    "with open('training_data.txt','r') as train_f:\n",
    "    train_iter = csv.reader(train_f, delimiter='|')\n",
    "    trainlist = [i for i in train_iter]\n",
    "train_raw = np.asarray(trainlist)\n",
    "Label = train_raw[0,:]\n",
    "x_train = train_raw[1:,0:-1]\n",
    "y_train = train_raw[1:,-1]\n",
    "x_train = np.asarray(x_train, dtype='float64')\n",
    "y_train = np.asarray(y_train, dtype='int')\n",
    "\n",
    "#import testing data\n",
    "with open('testing_data.txt','r') as test_f:\n",
    "    test_iter = csv.reader(test_f, delimiter='|')\n",
    "    testlist = [i for i in test_iter]\n",
    "x_test = np.asarray(testlist[1:])\n",
    "x_test = np.asarray(x_test, dtype='float64')\n",
    "\n",
    "from sklearn import preprocessing\n",
    "x = np.zeros([x_train.shape[0]+x_test.shape[0], x_train.shape[1]])\n",
    "x[0:x_train.shape[0],:] = x_train\n",
    "x[x_train.shape[0]:,:] = x_test\n",
    "x_norm = preprocessing.normalize(x, norm='l2')\n",
    "x_norm_scale = preprocessing.scale(x_norm)\n",
    "x_train = x_norm_scale[0:x_train.shape[0],:]\n",
    "x_test = x_norm_scale[x_train.shape[0]:,:]"
   ]
  }
 ],
 "metadata": {
  "kernelspec": {
   "display_name": "Python 2",
   "language": "python",
   "name": "python2"
  },
  "language_info": {
   "codemirror_mode": {
    "name": "ipython",
    "version": 2
   },
   "file_extension": ".py",
   "mimetype": "text/x-python",
   "name": "python",
   "nbconvert_exporter": "python",
   "pygments_lexer": "ipython2",
   "version": "2.7.10"
  }
 },
 "nbformat": 4,
 "nbformat_minor": 0
}
